{
 "cells": [
  {
   "cell_type": "code",
   "execution_count": null,
   "metadata": {},
   "outputs": [],
   "source": [
    "!pip install gensim\n",
    "!pip install nltk"
   ]
  },
  {
   "cell_type": "code",
   "execution_count": 1,
   "metadata": {
    "id": "TmA1Au6CCaC7"
   },
   "outputs": [],
   "source": [
    "import pandas as pd\n",
    "import numpy as np\n",
    "import tensorflow as tf\n",
    "from tensorflow.keras.preprocessing.sequence import pad_sequences\n",
    "import re\n",
    "from nltk.tokenize import WordPunctTokenizer, sent_tokenize\n",
    "from gensim.models import Word2Vec\n",
    "from tensorflow.keras.utils import to_categorical"
   ]
  },
  {
   "cell_type": "code",
   "execution_count": 3,
   "metadata": {
    "id": "OEZtMdB5CaDG"
   },
   "outputs": [],
   "source": [
    "train = pd.read_csv('open/train.csv', encoding = 'utf-8')"
   ]
  },
  {
   "cell_type": "code",
   "execution_count": 4,
   "metadata": {},
   "outputs": [],
   "source": [
    "train['text'] = train['text'].str.lower()"
   ]
  },
  {
   "cell_type": "code",
   "execution_count": 34,
   "metadata": {},
   "outputs": [],
   "source": [
    "sentences = []\n",
    "for text in train['text']:\n",
    "    for sentence in sent_tokenize(text):\n",
    "        sentences.append(sentence)"
   ]
  },
  {
   "cell_type": "code",
   "execution_count": 6,
   "metadata": {},
   "outputs": [],
   "source": [
    "word_tokenizer = WordPunctTokenizer()\n",
    "tokenized_sentences = [word_tokenizer.tokenize(sentence) for sentence in sentences]"
   ]
  },
  {
   "cell_type": "code",
   "execution_count": 27,
   "metadata": {
    "id": "DZdWzRkCDovd"
   },
   "outputs": [],
   "source": [
    "X_train = np.array([x for x in train['text']])\n",
    "y_train = np.array([x for x in train['author']])"
   ]
  },
  {
   "cell_type": "code",
   "execution_count": 8,
   "metadata": {},
   "outputs": [],
   "source": [
    "embedding_dim=64"
   ]
  },
  {
   "cell_type": "code",
   "execution_count": 9,
   "metadata": {},
   "outputs": [],
   "source": [
    "wv_model = Word2Vec(sentences=tokenized_sentences, size=embedding_dim, window=5, min_count=5, workers=4, sg=0)"
   ]
  },
  {
   "cell_type": "code",
   "execution_count": 10,
   "metadata": {},
   "outputs": [],
   "source": [
    "padding_type='post'\n",
    "max_length=500"
   ]
  },
  {
   "cell_type": "code",
   "execution_count": 13,
   "metadata": {},
   "outputs": [],
   "source": [
    "def gen_sequences(model, input_data):\n",
    "    sequences = []\n",
    "    for sentence in input_data:\n",
    "        sequence = []\n",
    "        for word in word_tokenizer.tokenize(sentence):\n",
    "            try:\n",
    "                sequence.append(wv_model.wv[word])\n",
    "            except KeyError:\n",
    "                pass\n",
    "        sequences.append(sequence)\n",
    "    return sequences\n",
    "\n",
    "train_sequences = gen_sequences(wv_model, X_train)\n",
    "train_padded = pad_sequences(train_sequences, padding=padding_type, maxlen=max_length)\n",
    "\n",
    "test_sequences = gen_sequences(wv_model, X_test)\n",
    "test_padded = pad_sequences(test_sequences, padding=padding_type, maxlen=max_length)"
   ]
  },
  {
   "cell_type": "code",
   "execution_count": 14,
   "metadata": {},
   "outputs": [
    {
     "data": {
      "text/plain": [
       "(54879, 500, 64)"
      ]
     },
     "execution_count": 14,
     "metadata": {},
     "output_type": "execute_result"
    }
   ],
   "source": [
    "train_padded.shape"
   ]
  },
  {
   "cell_type": "code",
   "execution_count": 32,
   "metadata": {
    "id": "U2CxfUPZEOu0"
   },
   "outputs": [],
   "source": [
    "model = tf.keras.Sequential([\n",
    "    tf.keras.layers.GlobalAveragePooling1D(input_shape=(max_length,embedding_dim)),\n",
    "    tf.keras.layers.Dense(24, activation='relu'),\n",
    "    tf.keras.layers.Dense(5, activation='softmax')\n",
    "])\n",
    "\n",
    "model.compile(loss='categorical_crossentropy', optimizer=tf.keras.optimizers.Adam(learning_rate=.01), metrics=['acc'])"
   ]
  },
  {
   "cell_type": "code",
   "execution_count": 29,
   "metadata": {
    "colab": {
     "base_uri": "https://localhost:8080/"
    },
    "collapsed": true,
    "id": "wxUTpZnPEXJX",
    "outputId": "02c9e1f2-439d-48a3-f78e-27fb6932ef72"
   },
   "outputs": [
    {
     "name": "stdout",
     "output_type": "stream",
     "text": [
      "Model: \"sequential_3\"\n",
      "_________________________________________________________________\n",
      "Layer (type)                 Output Shape              Param #   \n",
      "=================================================================\n",
      "bidirectional_2 (Bidirection (None, 500, 128)          66048     \n",
      "_________________________________________________________________\n",
      "bidirectional_3 (Bidirection (None, 128)               98816     \n",
      "_________________________________________________________________\n",
      "dense_5 (Dense)              (None, 5)                 645       \n",
      "=================================================================\n",
      "Total params: 165,509\n",
      "Trainable params: 165,509\n",
      "Non-trainable params: 0\n",
      "_________________________________________________________________\n",
      "None\n"
     ]
    }
   ],
   "source": [
    "model = tf.keras.Sequential([\n",
    "    tf.keras.layers.Bidirectional(tf.keras.layers.LSTM(embedding_dim, return_sequences=True), input_shape=(max_length,embedding_dim)),\n",
    "    tf.keras.layers.Bidirectional(tf.keras.layers.LSTM(embedding_dim)),\n",
    "    tf.keras.layers.Dense(5, activation='softmax')\n",
    "])\n",
    "\n",
    "model.compile(loss='categorical_crossentropy', optimizer=tf.keras.optimizers.Adam(learning_rate=.01), metrics=['acc'])"
   ]
  },
  {
   "cell_type": "code",
   "execution_count": 33,
   "metadata": {
    "colab": {
     "base_uri": "https://localhost:8080/"
    },
    "id": "51YtSBBiEcMv",
    "outputId": "4b84fa59-4ff5-4fff-dc87-b61080c802b6"
   },
   "outputs": [
    {
     "name": "stdout",
     "output_type": "stream",
     "text": [
      "Epoch 1/20\n",
      "1372/1372 - 9s - loss: 1.2395 - acc: 0.5043 - val_loss: 1.1475 - val_acc: 0.5474\n",
      "Epoch 2/20\n",
      "1372/1372 - 9s - loss: 1.1262 - acc: 0.5563 - val_loss: 1.1078 - val_acc: 0.5635\n",
      "Epoch 3/20\n",
      "1372/1372 - 9s - loss: 1.1008 - acc: 0.5652 - val_loss: 1.0799 - val_acc: 0.5745\n",
      "Epoch 4/20\n",
      "1372/1372 - 9s - loss: 1.0850 - acc: 0.5716 - val_loss: 1.0499 - val_acc: 0.5927\n",
      "Epoch 5/20\n",
      "1372/1372 - 9s - loss: 1.0732 - acc: 0.5776 - val_loss: 1.0509 - val_acc: 0.5899\n",
      "Epoch 6/20\n",
      "1372/1372 - 9s - loss: 1.0632 - acc: 0.5797 - val_loss: 1.0523 - val_acc: 0.5899\n",
      "Epoch 7/20\n",
      "1372/1372 - 10s - loss: 1.0562 - acc: 0.5816 - val_loss: 1.0358 - val_acc: 0.5901\n",
      "Epoch 8/20\n",
      "1372/1372 - 9s - loss: 1.0469 - acc: 0.5869 - val_loss: 1.0281 - val_acc: 0.5953\n",
      "Epoch 9/20\n",
      "1372/1372 - 10s - loss: 1.0397 - acc: 0.5902 - val_loss: 1.0243 - val_acc: 0.5995\n",
      "Epoch 10/20\n",
      "1372/1372 - 9s - loss: 1.0371 - acc: 0.5921 - val_loss: 1.0326 - val_acc: 0.5930\n",
      "Epoch 11/20\n",
      "1372/1372 - 9s - loss: 1.0305 - acc: 0.5945 - val_loss: 1.0319 - val_acc: 0.5950\n",
      "Epoch 12/20\n",
      "1372/1372 - 9s - loss: 1.0287 - acc: 0.5959 - val_loss: 1.0148 - val_acc: 0.6033\n",
      "Epoch 13/20\n",
      "1372/1372 - 9s - loss: 1.0233 - acc: 0.5982 - val_loss: 1.0094 - val_acc: 0.6038\n",
      "Epoch 14/20\n",
      "1372/1372 - 9s - loss: 1.0214 - acc: 0.5990 - val_loss: 1.0149 - val_acc: 0.6081\n",
      "Epoch 15/20\n",
      "1372/1372 - 9s - loss: 1.0204 - acc: 0.5988 - val_loss: 1.0206 - val_acc: 0.6012\n",
      "Epoch 16/20\n",
      "1372/1372 - 10s - loss: 1.0174 - acc: 0.6008 - val_loss: 1.0114 - val_acc: 0.6055\n",
      "Epoch 17/20\n",
      "1372/1372 - 10s - loss: 1.0155 - acc: 0.6018 - val_loss: 1.0066 - val_acc: 0.6096\n",
      "Epoch 18/20\n",
      "1372/1372 - 9s - loss: 1.0140 - acc: 0.6024 - val_loss: 1.0045 - val_acc: 0.6071\n",
      "Epoch 19/20\n",
      "1372/1372 - 10s - loss: 1.0131 - acc: 0.6019 - val_loss: 1.0178 - val_acc: 0.6024\n",
      "Epoch 20/20\n",
      "1372/1372 - 9s - loss: 1.0116 - acc: 0.6018 - val_loss: 1.0093 - val_acc: 0.6054\n"
     ]
    }
   ],
   "source": [
    "# fit model\n",
    "num_epochs = 20\n",
    "history = model.fit(train_padded, to_categorical(y_train), \n",
    "                    epochs=num_epochs, verbose=2, \n",
    "                    validation_split=0.2)"
   ]
  },
  {
   "cell_type": "code",
   "execution_count": null,
   "metadata": {},
   "outputs": [],
   "source": []
  }
 ],
 "metadata": {
  "colab": {
   "name": "sample_model.ipynb",
   "provenance": []
  },
  "kernelspec": {
   "display_name": "Python 3",
   "language": "python",
   "name": "python3"
  },
  "language_info": {
   "codemirror_mode": {
    "name": "ipython",
    "version": 3
   },
   "file_extension": ".py",
   "mimetype": "text/x-python",
   "name": "python",
   "nbconvert_exporter": "python",
   "pygments_lexer": "ipython3",
   "version": "3.8.3"
  }
 },
 "nbformat": 4,
 "nbformat_minor": 1
}
